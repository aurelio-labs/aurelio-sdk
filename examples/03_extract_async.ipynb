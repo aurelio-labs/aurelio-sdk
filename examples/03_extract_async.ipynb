{
 "cells": [
  {
   "cell_type": "code",
   "execution_count": 1,
   "metadata": {},
   "outputs": [],
   "source": [
    "import sys\n",
    "\n",
    "sys.path.append(\"..\")"
   ]
  },
  {
   "cell_type": "code",
   "execution_count": 2,
   "metadata": {},
   "outputs": [],
   "source": [
    "from aurelio_sdk import AsyncAurelioClient\n",
    "import os\n",
    "\n",
    "client = AsyncAurelioClient(api_key=os.environ[\"AURELIO_API_KEY\"], base_url=\"http://localhost:8000\", debug=True)"
   ]
  },
  {
   "cell_type": "markdown",
   "metadata": {},
   "source": [
    "# Extract text from PDFs and video MP4 files and urls"
   ]
  },
  {
   "cell_type": "markdown",
   "metadata": {},
   "source": [
    "### From file"
   ]
  },
  {
   "cell_type": "code",
   "execution_count": 10,
   "metadata": {},
   "outputs": [
    {
     "name": "stdout",
     "output_type": "stream",
     "text": [
      "inode/x-empty\n"
     ]
    },
    {
     "ename": "APIError",
     "evalue": "API request failed with status 400: {'detail': 'Unsupported file type: `application/x-empty`, available types: application/pdf, video/mp4'}.",
     "output_type": "error",
     "traceback": [
      "\u001b[0;31m---------------------------------------------------------------------------\u001b[0m",
      "\u001b[0;31mAPIError\u001b[0m                                  Traceback (most recent call last)",
      "File \u001b[0;32m~/customers/aurelio/aurelio-sdk/aurelio_sdk/client_async.py:175\u001b[0m, in \u001b[0;36mAsyncAurelioClient.extract_file\u001b[0;34m(self, file, quality, chunk, wait, enable_polling)\u001b[0m\n\u001b[1;32m    174\u001b[0m                 error_content \u001b[38;5;241m=\u001b[39m \u001b[38;5;28;01mawait\u001b[39;00m response\u001b[38;5;241m.\u001b[39mtext()\n\u001b[0;32m--> 175\u001b[0m             \u001b[38;5;28;01mraise\u001b[39;00m APIError(response\u001b[38;5;241m.\u001b[39mstatus, error_content)\n\u001b[1;32m    177\u001b[0m \u001b[38;5;28;01mif\u001b[39;00m wait \u001b[38;5;241m==\u001b[39m \u001b[38;5;241m0\u001b[39m:\n",
      "\u001b[0;31mAPIError\u001b[0m: API request failed with status 400: {'detail': 'Unsupported file type: `application/x-empty`, available types: application/pdf, video/mp4'}.",
      "\nThe above exception was the direct cause of the following exception:\n",
      "\u001b[0;31mAPIError\u001b[0m                                  Traceback (most recent call last)",
      "Cell \u001b[0;32mIn[10], line 33\u001b[0m\n\u001b[1;32m     28\u001b[0m     content_type \u001b[38;5;241m=\u001b[39m \u001b[38;5;124m\"\u001b[39m\u001b[38;5;124mapplication/octet-stream\u001b[39m\u001b[38;5;124m\"\u001b[39m\n\u001b[1;32m     30\u001b[0m \u001b[38;5;28mprint\u001b[39m(content_type)\n\u001b[0;32m---> 33\u001b[0m response_pdf_file: ExtractResponse \u001b[38;5;241m=\u001b[39m \u001b[38;5;28;01mawait\u001b[39;00m client\u001b[38;5;241m.\u001b[39mextract_file(\n\u001b[1;32m     34\u001b[0m     file\u001b[38;5;241m=\u001b[39mtemp_file_content, quality\u001b[38;5;241m=\u001b[39m\u001b[38;5;124m\"\u001b[39m\u001b[38;5;124mlow\u001b[39m\u001b[38;5;124m\"\u001b[39m, chunk\u001b[38;5;241m=\u001b[39m\u001b[38;5;28;01mTrue\u001b[39;00m, wait\u001b[38;5;241m=\u001b[39m\u001b[38;5;241m-\u001b[39m\u001b[38;5;241m1\u001b[39m, enable_polling\u001b[38;5;241m=\u001b[39m\u001b[38;5;28;01mTrue\u001b[39;00m\n\u001b[1;32m     35\u001b[0m )\n\u001b[1;32m     37\u001b[0m os\u001b[38;5;241m.\u001b[39munlink(temp_file_path)\n\u001b[1;32m     39\u001b[0m response_pdf_file\n",
      "File \u001b[0;32m~/customers/aurelio/aurelio-sdk/aurelio_sdk/client_async.py:194\u001b[0m, in \u001b[0;36mAsyncAurelioClient.extract_file\u001b[0;34m(self, file, quality, chunk, wait, enable_polling)\u001b[0m\n\u001b[1;32m    192\u001b[0m \u001b[38;5;28;01mexcept\u001b[39;00m \u001b[38;5;167;01mException\u001b[39;00m:\n\u001b[1;32m    193\u001b[0m     error_content \u001b[38;5;241m=\u001b[39m \u001b[38;5;28;01mawait\u001b[39;00m response\u001b[38;5;241m.\u001b[39mtext()\n\u001b[0;32m--> 194\u001b[0m \u001b[38;5;28;01mraise\u001b[39;00m APIError(response\u001b[38;5;241m.\u001b[39mstatus, error_content) \u001b[38;5;28;01mfrom\u001b[39;00m \u001b[38;5;21;01me\u001b[39;00m\n",
      "\u001b[0;31mAPIError\u001b[0m: API request failed with status 400: {'detail': 'Unsupported file type: `application/x-empty`, available types: application/pdf, video/mp4'}."
     ]
    }
   ],
   "source": [
    "import magic\n",
    "from aurelio_sdk import ExtractResponse\n",
    "import aiofiles\n",
    "\n",
    "\n",
    "# file_path = \"data/pdf/adaptive_semantic_search.pdf\"\n",
    "# file_path = \"data/video/how_to_overcome_our_mistakes.mp4\"\n",
    "file_path = \"data/pdf/test\"\n",
    "\n",
    "import tempfile\n",
    "import os\n",
    "\n",
    "with tempfile.NamedTemporaryFile(delete=False, suffix='.md') as temp_file:\n",
    "    temp_file_path = temp_file.name\n",
    "\n",
    "async with aiofiles.open(file_path, \"rb\") as f:\n",
    "    file_content = await f.read()\n",
    "\n",
    "async with aiofiles.open(temp_file_path, \"wb\") as temp_f:\n",
    "    await temp_f.write(file_content)\n",
    "\n",
    "async with aiofiles.open(temp_file_path, \"rb\") as f:\n",
    "    temp_file_content = await f.read()\n",
    "\n",
    "content_type = magic.from_file(temp_file_path, mime=True)\n",
    "\n",
    "if content_type is None:\n",
    "    content_type = \"application/octet-stream\"\n",
    "\n",
    "print(content_type)\n",
    "\n",
    "\n",
    "response_pdf_file: ExtractResponse = await client.extract_file(\n",
    "    file=temp_file_content, quality=\"low\", chunk=True, wait=-1, enable_polling=True\n",
    ")\n",
    "\n",
    "os.unlink(temp_file_path)\n",
    "\n",
    "response_pdf_file"
   ]
  },
  {
   "cell_type": "code",
   "execution_count": null,
   "metadata": {},
   "outputs": [],
   "source": [
    "from aurelio_sdk import ExtractResponse\n",
    "\n",
    "# From a local file\n",
    "file_path = \"data/video/how_to_overcome_our_mistakes.mp4\"\n",
    "\n",
    "async with aiofiles.open(file_path, \"rb\") as f:\n",
    "    file_content = await f.read()\n",
    "\n",
    "response_video_file: ExtractResponse = await client.extract_file(\n",
    "    file=file_content, quality=\"low\", chunk=True, wait=-1, enable_polling=True\n",
    ")\n",
    "\n",
    "response_video_file"
   ]
  },
  {
   "cell_type": "markdown",
   "metadata": {},
   "source": [
    "### From URL"
   ]
  },
  {
   "cell_type": "code",
   "execution_count": null,
   "metadata": {},
   "outputs": [],
   "source": [
    "from aurelio_sdk import ExtractResponse\n",
    "\n",
    "# From URL\n",
    "url = \"https://arxiv.org/pdf/2408.15291\"\n",
    "response_pdf_url: ExtractResponse = await client.extract_url(\n",
    "    url=url, quality=\"low\", chunk=True, wait=-1, enable_polling=True\n",
    ")\n",
    "\n",
    "response_pdf_url"
   ]
  },
  {
   "cell_type": "code",
   "execution_count": null,
   "metadata": {},
   "outputs": [],
   "source": [
    "from aurelio_sdk import ExtractResponse\n",
    "\n",
    "# From URL\n",
    "url = \"https://storage.googleapis.com/gtv-videos-bucket/sample/ForBiggerMeltdowns.mp4\"\n",
    "response_video_url: ExtractResponse = await client.extract_url(\n",
    "    url=url, quality=\"low\", chunk=True, wait=-1, enable_polling=True\n",
    ")\n",
    "\n",
    "response_video_url"
   ]
  },
  {
   "cell_type": "markdown",
   "metadata": {},
   "source": [
    "# Get document status and handle timeouts"
   ]
  },
  {
   "cell_type": "code",
   "execution_count": null,
   "metadata": {},
   "outputs": [],
   "source": [
    "from aurelio_sdk import ExtractResponse\n",
    "\n",
    "# From a local file\n",
    "file_path = \"data/pdf/adaptive_semantic_search.pdf\"\n",
    "\n",
    "async with aiofiles.open(file_path, \"rb\") as f:\n",
    "    file_content = await f.read()\n",
    "\n",
    "response_pdf_file: ExtractResponse = await client.extract_file(\n",
    "    file=file_content, quality=\"high\", chunk=True, wait=10, enable_polling=True\n",
    ")\n",
    "\n",
    "# Get document status and document id\n",
    "print(\"Status:\", response_pdf_file.status)\n",
    "print(\"Document ID:\", response_pdf_file.document.id)"
   ]
  },
  {
   "cell_type": "code",
   "execution_count": null,
   "metadata": {},
   "outputs": [],
   "source": [
    "# Get document status and response\n",
    "document_response: ExtractResponse = await client.get_document(\n",
    "    document_id=response_pdf_file.document.id, timeout=1\n",
    ")\n",
    "\n",
    "print(\"Status:\", document_response.status)"
   ]
  },
  {
   "cell_type": "code",
   "execution_count": null,
   "metadata": {},
   "outputs": [],
   "source": [
    "# Use a pre-built function, which helps to avoid long hanging requests (Recommended)\n",
    "document_response = await client.wait_for(\n",
    "    document_id=response_pdf_file.document.id, wait=300\n",
    ")"
   ]
  },
  {
   "cell_type": "code",
   "execution_count": null,
   "metadata": {},
   "outputs": [],
   "source": [
    "document_response"
   ]
  }
 ],
 "metadata": {
  "kernelspec": {
   "display_name": ".venv_312",
   "language": "python",
   "name": "python3"
  },
  "language_info": {
   "codemirror_mode": {
    "name": "ipython",
    "version": 3
   },
   "file_extension": ".py",
   "mimetype": "text/x-python",
   "name": "python",
   "nbconvert_exporter": "python",
   "pygments_lexer": "ipython3",
   "version": "3.12.4"
  }
 },
 "nbformat": 4,
 "nbformat_minor": 2
}
