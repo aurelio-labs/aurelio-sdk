{
 "cells": [
  {
   "cell_type": "code",
   "execution_count": 1,
   "metadata": {},
   "outputs": [],
   "source": [
    "import sys\n",
    "\n",
    "sys.path.append(\"..\")\n"
   ]
  },
  {
   "cell_type": "code",
   "execution_count": 2,
   "metadata": {},
   "outputs": [
    {
     "name": "stdout",
     "output_type": "stream",
     "text": [
      "https://staging.api.aurelio.ai\n"
     ]
    }
   ],
   "source": [
    "from aurelio_sdk import AsyncAurelioClient\n",
    "import os\n",
    "\n",
    "client = AsyncAurelioClient(debug=True, api_key=os.environ[\"AURELIO_API_KEY_STAGING\"], base_url=os.environ[\"BASE_URL_STAGING\"])\n",
    "print(client.base_url)\n"
   ]
  },
  {
   "cell_type": "markdown",
   "metadata": {},
   "source": [
    "# Extract text from PDFs and video MP4 files and urls\n"
   ]
  },
  {
   "cell_type": "markdown",
   "metadata": {},
   "source": [
    "### From file\n"
   ]
  },
  {
   "cell_type": "code",
   "execution_count": null,
   "metadata": {},
   "outputs": [],
   "source": [
    "# PDF\n",
    "\n",
    "from aurelio_sdk import ExtractResponse\n",
    "\n",
    "# file_path = \"data/pdf/adaptive_semantic_search.pdf\"\n",
    "file_path = \"data/pdf/test_pdf.pdf\"\n",
    "\n",
    "# NOTE: wait=-1 means wait till completion, polling_interval=5 means polling every 5 seconds for status till completion\n",
    "\n",
    "response_pdf_file: ExtractResponse = await client.extract_file(\n",
    "    file_path=file_path, quality=\"low\", chunk=False, wait=-1, polling_interval=5\n",
    ")\n",
    "\n",
    "response_pdf_file"
   ]
  },
  {
   "cell_type": "code",
   "execution_count": 3,
   "metadata": {},
   "outputs": [
    {
     "name": "stderr",
     "output_type": "stream",
     "text": [
      "\u001b[36m[AurelioSDK] [DEBUG] -- 2024-11-19 12:17:11 - at client_async.py:257 in _file_stream(): Reading chunk 1, chunk_size: 40.00 MB, total size: 7.88 MB\u001b[0m\n",
      "\u001b[36m[AurelioSDK] [DEBUG] -- 2024-11-19 12:17:14 - at client_async.py:289 in extract_file(): Calling API\u001b[0m\n",
      "\u001b[36m[AurelioSDK] [DEBUG] -- 2024-11-19 12:17:14 - at client_async.py:671 in wait_for(): Starting polling for document completion: doc_51ec8569-64a6-4ac8-b0b2-750c887686ac\u001b[0m\n",
      "\u001b[36m[AurelioSDK] [DEBUG] -- 2024-11-19 12:17:30 - at client_async.py:691 in wait_for(): Polling document doc_51ec8569-64a6-4ac8-b0b2-750c887686ac: status=TaskStatus.pending\u001b[0m\n",
      "\u001b[36m[AurelioSDK] [DEBUG] -- 2024-11-19 12:17:45 - at client_async.py:691 in wait_for(): Polling document doc_51ec8569-64a6-4ac8-b0b2-750c887686ac: status=TaskStatus.completed\u001b[0m\n"
     ]
    },
    {
     "data": {
      "text/plain": [
       "ExtractResponse(status=<TaskStatus.completed: 'completed'>, usage=Usage(tokens=835, pages=None, seconds=291), message=None, processing_options=ExtractProcessingOptions(chunk=True, quality=<ProcessingQuality.high: 'high'>), document=ResponseDocument(id='doc_51ec8569-64a6-4ac8-b0b2-750c887686ac', content=\" enrolled in introductory and advanced French courses. These students completed a questionnaire asking what kind of teacher they preferred, one who emphasized their strength and successes, or one who highlighted their mistakes and corrected their weaknesses. In general, responses showed that while beginner students sought positive reinforcement, advanced students were more eager for critical feedback. Researchers have theorized a handful of explanations for these results. Having just started out, beginners are still determining if they enjoy learning French, and if they want to continue studying.  the Roon study, participants in the failure group indicated much lower levels of self-confidence after participating. It's tempting to dismiss this pain as a temporary setback, but some studies have found that when people feel demoralized or incompetent, their brains often stop processing new information. This suggests that if a threat to your self-esteem is large enough, it can undermine your ability to learn. However, your tolerance for failure also depends on. on your relationship with the task at hand. In a study from 2011, researchers surveyed a group of American students  The subject's answers in round one determined the rune's meanings in round two. In the first round, participants either had all their answers marked as correct, no matter what, or they were forced to fail every question. This meant that at the break, every participant had the same amount of information, and in round two, they were playing for real. But despite this even playing field, the successful participants from round one rose to the top of the the ranks, while those cast as failures kept, well, failing.  forget all your successes. And building on what you're doing right can be more effective than focusing on what you did wrong. One of the ways we can be more constructive with ourselves is by considering how we talk to ourselves. Self-talk can actually play a major role in performance. Learn the key to doing it right with this video. Or get actionable science-based advice on how to build character at ed.t.com slash build character.  what and how much to study, and you can replicate those decisions for the next test. But if you failed, it could be for any number of reasons. Maybe you didn't study enough. Maybe you studied the wrong information. Or maybe you did everything right and the test covered things you shouldn't have been expected to know. In cases like this, it's unclear exactly what went wrong, making it difficult to learn how to improve. Wanting to learn from our failures is completely natural, and there's a lot of to gain by being resilient and cultivating a growth mindset. But fixating on your failures can make it easy to  In a 2019 study, over 400 participants were enlisted to learn a mysterious, invented language. Individuals were asked about three pairs of runes. For example, which of these two characters represents an animal? Then, after a brief break, they were asked about the same roon pairs, with questions flipped. as in which of these two runes represents a non-living object. But this game had a secret.  so they might crave praise as a way to stay motivated. On the other hand, the advanced students are already invested, so they may want to improve their skills as efficiently as possible. The process of gaining expertise also comes with its fair share of failure, so the advanced students may have built a higher tolerance for making mistakes. But whether you're an expert or a novice, it's usually much more straightforward to learn from your successes than your failures. For example, imagine getting your grade back on an exam. If you aced it, you could reasonably assume you made good choices around when,  People often describe failure as a teachable moment, a necessary stumble on our way to improvement. But learning from our mistakes isn't always easy, especially when those failures are demoralizing, overwhelming, or just downright confusing. So what exactly prevents us from turning our mistakes into mastery? Perhaps the most obvious hurdle to learning from failure is how painful it can be. People generally want to think of themselves as capable and competent. And experiencing failure threatens that self-image. In a survey following a replication of\", source='', source_type=<SourceType.video_mp4: 'video/mp4'>, num_chunks=12, metadata={}, chunks=[ResponseChunk(id='chunk_fc2608f5-b317-42d9-8736-06c8384253a5', content='enrolled in introductory and advanced French courses. These students completed a questionnaire asking what kind of teacher they preferred, one who emphasized their strength and successes, or one who highlighted their mistakes and corrected their weaknesses. In general, responses showed that while beginner students sought positive reinforcement, advanced students were more eager for critical feedback.', chunk_index=1, num_tokens=63, metadata={'start_time': 0, 'end_time': 26}), ResponseChunk(id='chunk_cc65051f-e285-4821-bf56-d97da597f016', content='Researchers have theorized a handful of explanations for these results. Having just started out, beginners are still determining if they enjoy learning French, and if they want to continue studying. the Roon study, participants in the failure group indicated much lower levels of self-confidence after participating.', chunk_index=2, num_tokens=55, metadata={'start_time': 26, 'end_time': 43}), ResponseChunk(id='chunk_d0576fb2-31c6-4fcb-a827-88fa3ec3551a', content=\"It's tempting to dismiss this pain as a temporary setback, but some studies have found that when people feel demoralized or incompetent, their brains often stop processing new information. This suggests that if a threat to your self-esteem is large enough, it can undermine your ability to learn.\", chunk_index=3, num_tokens=57, metadata={'start_time': 44, 'end_time': 63}), ResponseChunk(id='chunk_26a2b795-de77-4e40-831e-1bbf5099b9c2', content=\"However, your tolerance for failure also depends on. on your relationship with the task at hand. In a study from 2011, researchers surveyed a group of American students The subject's answers in round one determined the rune's meanings in round two. In the first round, participants either had all their answers marked as correct, no matter what, or they were forced to fail every question. This meant that at the break, every participant had the same amount of information, and in round two, they were playing for real. But despite this even playing field, the successful participants from round one rose to the top of the the ranks, while those cast as failures kept, well, failing. forget all your successes.\", chunk_index=4, num_tokens=143, metadata={'start_time': 64, 'end_time': 117}), ResponseChunk(id='chunk_1e1151ec-1a69-47a5-85e3-c5579128a6b1', content=\"And building on what you're doing right can be more effective than focusing on what you did wrong. One of the ways we can be more constructive with ourselves is by considering how we talk to ourselves. Self-talk can actually play a major role in performance.\", chunk_index=5, num_tokens=51, metadata={'start_time': 111, 'end_time': 134}), ResponseChunk(id='chunk_0a649099-5cef-48e5-a2a0-b7f609213f06', content='Learn the key to doing it right with this video. Or get actionable science-based advice on how to build character at ed.t.com slash build character. what and how much to study, and you can replicate those decisions for the next test.', chunk_index=6, num_tokens=48, metadata={'start_time': 127, 'end_time': 146}), ResponseChunk(id='chunk_00277957-041b-4857-bcfb-26408de3e6f9', content=\"But if you failed, it could be for any number of reasons. Maybe you didn't study enough. Maybe you studied the wrong information. Or maybe you did everything right and the test covered things you shouldn't have been expected to know.\", chunk_index=7, num_tokens=48, metadata={'start_time': 146, 'end_time': 161}), ResponseChunk(id='chunk_cd8a7a33-9b12-4b19-b0e9-5af436223276', content=\"In cases like this, it's unclear exactly what went wrong, making it difficult to learn how to improve. Wanting to learn from our failures is completely natural, and there's a lot of to gain by being resilient and cultivating a growth mindset. But fixating on your failures can make it easy to In a 2019 study, over 400 participants were enlisted to learn a mysterious, invented language.\", chunk_index=8, num_tokens=82, metadata={'start_time': 161, 'end_time': 194}), ResponseChunk(id='chunk_51b53a48-6679-4692-9dca-87305fdde37a', content='Individuals were asked about three pairs of runes. For example, which of these two characters represents an animal? Then, after a brief break, they were asked about the same roon pairs, with questions flipped. as in which of these two runes represents a non-living object.', chunk_index=9, num_tokens=57, metadata={'start_time': 194, 'end_time': 213}), ResponseChunk(id='chunk_11b9ebb1-0ae6-49c8-b014-bd0c56872f84', content=\"But this game had a secret. so they might crave praise as a way to stay motivated. On the other hand, the advanced students are already invested, so they may want to improve their skills as efficiently as possible. The process of gaining expertise also comes with its fair share of failure, so the advanced students may have built a higher tolerance for making mistakes. But whether you're an expert or a novice, it's usually much more straightforward to learn from your successes than your failures.\", chunk_index=10, num_tokens=97, metadata={'start_time': 213, 'end_time': 243}), ResponseChunk(id='chunk_c0002f11-2c23-47ee-bbd6-46d9dc5a5448', content=\"For example, imagine getting your grade back on an exam. If you aced it, you could reasonably assume you made good choices around when, People often describe failure as a teachable moment, a necessary stumble on our way to improvement. But learning from our mistakes isn't always easy, especially when those failures are demoralizing, overwhelming, or just downright confusing. So what exactly prevents us from turning our mistakes into mastery? Perhaps the most obvious hurdle to learning from failure is how painful it can be.\", chunk_index=11, num_tokens=102, metadata={'start_time': 243, 'end_time': 280}), ResponseChunk(id='chunk_fc2402bd-daad-4c5d-88b7-7ad12a0e89ac', content='People generally want to think of themselves as capable and competent. And experiencing failure threatens that self-image. In a survey following a replication of', chunk_index=12, num_tokens=27, metadata={'start_time': 280, 'end_time': 290})]))"
      ]
     },
     "execution_count": 3,
     "metadata": {},
     "output_type": "execute_result"
    }
   ],
   "source": [
    "# Video\n",
    "from aurelio_sdk import ExtractResponse\n",
    "\n",
    "# From a local file\n",
    "file_path = \"data/video/how_to_overcome_our_mistakes.mp4\"\n",
    "\n",
    "response_video_file: ExtractResponse = await client.extract_file(\n",
    "    file_path=file_path, quality=\"high\", chunk=True, wait=-1, polling_interval=15\n",
    ")\n",
    "\n",
    "response_video_file\n"
   ]
  },
  {
   "cell_type": "markdown",
   "metadata": {},
   "source": [
    "### From URL\n"
   ]
  },
  {
   "cell_type": "code",
   "execution_count": null,
   "metadata": {},
   "outputs": [],
   "source": [
    "# From URL PDF\n",
    "from aurelio_sdk import ExtractResponse\n",
    "\n",
    "# From URL\n",
    "url = \"https://arxiv.org/pdf/2408.15291\"\n",
    "response_pdf_url: ExtractResponse = await client.extract_url(\n",
    "    url=url, quality=\"low\", chunk=True, wait=-1, polling_interval=5\n",
    ")\n",
    "response_pdf_url"
   ]
  },
  {
   "cell_type": "code",
   "execution_count": null,
   "metadata": {},
   "outputs": [],
   "source": [
    "\n",
    "response_pdf_url.document.chunks[0].num_tokens"
   ]
  },
  {
   "cell_type": "code",
   "execution_count": null,
   "metadata": {},
   "outputs": [],
   "source": [
    "# From URL Video\n",
    "from aurelio_sdk import ExtractResponse\n",
    "\n",
    "# From URL\n",
    "url = \"https://storage.googleapis.com/gtv-videos-bucket/sample/ForBiggerMeltdowns.mp4\"\n",
    "response_video_url: ExtractResponse = await client.extract_url(\n",
    "    url=url, quality=\"low\", chunk=True, wait=-1\n",
    ")\n",
    "\n",
    "response_video_url"
   ]
  },
  {
   "cell_type": "code",
   "execution_count": null,
   "metadata": {},
   "outputs": [],
   "source": [
    "video_response_dict = response_video_url.model_dump()\n",
    "video_response_dict[\"document\"][\"chunks\"][0][\"metadata\"][\"start_time\"]\n"
   ]
  },
  {
   "cell_type": "markdown",
   "metadata": {},
   "source": [
    "# Get document status and handle timeouts\n"
   ]
  },
  {
   "cell_type": "code",
   "execution_count": null,
   "metadata": {},
   "outputs": [],
   "source": [
    "from aurelio_sdk import ExtractResponse\n",
    "\n",
    "# From a local file\n",
    "file_path = \"data/pdf/adaptive_semantic_search.pdf\"\n",
    "\n",
    "response_pdf_file: ExtractResponse = await client.extract_file(\n",
    "    file_path=file_path, quality=\"high\", chunk=True, wait=10)\n",
    "\n",
    "# Get document status and document id\n",
    "print(\"Status:\", response_pdf_file.status)\n",
    "print(\"Document ID:\", response_pdf_file.document.id)"
   ]
  },
  {
   "cell_type": "code",
   "execution_count": null,
   "metadata": {},
   "outputs": [],
   "source": [
    "# Get document status and response\n",
    "document_response: ExtractResponse = await client.get_document(\n",
    "    document_id=response_pdf_file.document.id, timeout=1\n",
    ")\n",
    "\n",
    "print(\"Status:\", document_response.status)"
   ]
  },
  {
   "cell_type": "code",
   "execution_count": null,
   "metadata": {},
   "outputs": [],
   "source": [
    "# Use a pre-built function, which helps to avoid long hanging requests (Recommended)\n",
    "document_response = await client.wait_for(\n",
    "    document_id=response_pdf_file.document.id, wait=300\n",
    ")"
   ]
  },
  {
   "cell_type": "code",
   "execution_count": null,
   "metadata": {},
   "outputs": [],
   "source": [
    "document_response"
   ]
  }
 ],
 "metadata": {
  "kernelspec": {
   "display_name": ".venv_312",
   "language": "python",
   "name": "python3"
  },
  "language_info": {
   "codemirror_mode": {
    "name": "ipython",
    "version": 3
   },
   "file_extension": ".py",
   "mimetype": "text/x-python",
   "name": "python",
   "nbconvert_exporter": "python",
   "pygments_lexer": "ipython3",
   "version": "3.12.7"
  }
 },
 "nbformat": 4,
 "nbformat_minor": 2
}
