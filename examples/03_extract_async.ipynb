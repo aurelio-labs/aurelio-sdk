{
 "cells": [
  {
   "cell_type": "code",
   "execution_count": 1,
   "metadata": {},
   "outputs": [],
   "source": [
    "import sys\n",
    "\n",
    "sys.path.append(\"..\")"
   ]
  },
  {
   "cell_type": "code",
   "execution_count": 2,
   "metadata": {},
   "outputs": [],
   "source": [
    "from aurelio_sdk import AsyncAurelioClient\n",
    "import os\n",
    "\n",
    "client = AsyncAurelioClient(api_key=os.environ[\"AURELIO_API_KEY\"], debug=True)"
   ]
  },
  {
   "cell_type": "markdown",
   "metadata": {},
   "source": [
    "# Extract text from PDFs and video MP4 files and urls"
   ]
  },
  {
   "cell_type": "markdown",
   "metadata": {},
   "source": [
    "### From file"
   ]
  },
  {
   "cell_type": "code",
   "execution_count": null,
   "metadata": {},
   "outputs": [],
   "source": [
    "from aurelio_sdk import ExtractResponse\n",
    "\n",
    "# From a local file\n",
    "file_path = \"data/pdf/adaptive_semantic_search.pdf\"\n",
    "\n",
    "with open(file_path, \"rb\") as file:\n",
    "    # timeout -1 means no timeout, default is 30 seconds\n",
    "    response_pdf_file: ExtractResponse = await client.extract_file(\n",
    "        file=file, quality=\"low\", chunk=True, timeout=2\n",
    "    )\n",
    "\n",
    "response_pdf_file"
   ]
  },
  {
   "cell_type": "code",
   "execution_count": null,
   "metadata": {},
   "outputs": [],
   "source": [
    "from aurelio_sdk import ExtractResponse\n",
    "\n",
    "# From a local file\n",
    "file_path = \"data/video/how_to_overcome_our_mistakes.mp4\"\n",
    "\n",
    "with open(file_path, \"rb\") as file:\n",
    "    # timeout -1 means no timeout, default is 30 seconds\n",
    "    response_video_file: ExtractResponse = await client.extract_file(\n",
    "        file=file, quality=\"low\", chunk=True, timeout=-1\n",
    "    )\n",
    "\n",
    "response_video_file"
   ]
  },
  {
   "cell_type": "markdown",
   "metadata": {},
   "source": [
    "### From URL"
   ]
  },
  {
   "cell_type": "code",
   "execution_count": 5,
   "metadata": {},
   "outputs": [
    {
     "name": "stderr",
     "output_type": "stream",
     "text": [
      "\u001b[36m2024-10-02 17:00:36 DEBUG aurelio_sdk.logger Started polling for document completion\u001b[0m\n",
      "\u001b[36m2024-10-02 17:00:37 DEBUG aurelio_sdk.logger Polling the document doc_f318c820-9cc4-4fe9-93a4-d1cd9a5519db: TaskStatus.pending\u001b[0m\n",
      "\u001b[36m2024-10-02 17:00:37 DEBUG aurelio_sdk.logger Timeout reached while waiting for document doc_f318c820-9cc4-4fe9-93a4-d1cd9a5519db\u001b[0m\n"
     ]
    },
    {
     "data": {
      "text/plain": [
       "ExtractResponse(status=<TaskStatus.pending: 'pending'>, usage=Usage(tokens=None, pages=None, seconds=None), message=None, processing_options=ExtractProcessingOptions(chunk=True, quality=<ProcessingQuality.low: 'low'>), document=ResponseDocument(id='doc_f318c820-9cc4-4fe9-93a4-d1cd9a5519db', content='', source='', source_type=<SourceType.application_pdf: 'application/pdf'>, num_chunks=0, metadata={}, chunks=[]))"
      ]
     },
     "execution_count": 5,
     "metadata": {},
     "output_type": "execute_result"
    }
   ],
   "source": [
    "from aurelio_sdk import ExtractResponse\n",
    "\n",
    "# From URL\n",
    "url = \"https://arxiv.org/pdf/2408.15291\"\n",
    "response_pdf_url: ExtractResponse = await client.extract_url(\n",
    "    url=url, quality=\"low\", chunk=True, wait=-1\n",
    ")\n",
    "#TODO continue here\n",
    "\n",
    "response_pdf_url"
   ]
  },
  {
   "cell_type": "code",
   "execution_count": null,
   "metadata": {},
   "outputs": [],
   "source": [
    "from aurelio_sdk import ExtractResponse\n",
    "\n",
    "# From URL\n",
    "url = \"https://storage.googleapis.com/gtv-videos-bucket/sample/ForBiggerMeltdowns.mp4\"\n",
    "response_video_url: ExtractResponse = await client.extract_url(\n",
    "    url=url, quality=\"low\", chunk=True, wait=-1\n",
    ")\n",
    "\n",
    "response_video_url"
   ]
  },
  {
   "cell_type": "markdown",
   "metadata": {},
   "source": [
    "# Get document status and handle timeouts"
   ]
  },
  {
   "cell_type": "code",
   "execution_count": null,
   "metadata": {},
   "outputs": [],
   "source": [
    "from aurelio_sdk import ExtractResponse\n",
    "\n",
    "# From a local file\n",
    "file_path = \"data/pdf/adaptive_semantic_search.pdf\"\n",
    "\n",
    "with open(file_path, \"rb\") as file:\n",
    "    # Load file high quality and set timeout 10 seconds\n",
    "    response_pdf_file: ExtractResponse = await client.extract_file(\n",
    "        file=file, quality=\"high\", chunk=True, timeout=10\n",
    "    )\n",
    "\n",
    "# Get document status, message and document id\n",
    "print(\"Status:\", response_pdf_file.status)\n",
    "print(\"Message:\", response_pdf_file.message)\n",
    "print(\"Document ID:\", response_pdf_file.document.id)"
   ]
  },
  {
   "cell_type": "code",
   "execution_count": null,
   "metadata": {},
   "outputs": [],
   "source": [
    "# Get document status and response\n",
    "document_response: ExtractResponse = await client.get_document(\n",
    "    document_id=response_pdf_file.document.id, timeout=1\n",
    ")\n",
    "\n",
    "print(\"Status:\", document_response.status)"
   ]
  },
  {
   "cell_type": "code",
   "execution_count": null,
   "metadata": {},
   "outputs": [],
   "source": [
    "# Or use a pre-built function, which helps to avoid long hanging requests (Recommended)\n",
    "document_response = await client.wait_for_document_completion(\n",
    "    document_id=response_pdf_file.document.id, wait=300\n",
    ")"
   ]
  },
  {
   "cell_type": "code",
   "execution_count": null,
   "metadata": {},
   "outputs": [],
   "source": [
    "document_response"
   ]
  }
 ],
 "metadata": {
  "kernelspec": {
   "display_name": ".venv_312",
   "language": "python",
   "name": "python3"
  },
  "language_info": {
   "codemirror_mode": {
    "name": "ipython",
    "version": 3
   },
   "file_extension": ".py",
   "mimetype": "text/x-python",
   "name": "python",
   "nbconvert_exporter": "python",
   "pygments_lexer": "ipython3",
   "version": "3.12.4"
  }
 },
 "nbformat": 4,
 "nbformat_minor": 2
}
