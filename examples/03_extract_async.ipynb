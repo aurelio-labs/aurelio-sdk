{
 "cells": [
  {
   "cell_type": "code",
   "execution_count": 1,
   "metadata": {},
   "outputs": [],
   "source": [
    "import sys\n",
    "\n",
    "sys.path.append(\"..\")"
   ]
  },
  {
   "cell_type": "code",
   "execution_count": 2,
   "metadata": {},
   "outputs": [],
   "source": [
    "from aurelio_sdk import AsyncAurelioClient\n",
    "import os\n",
    "\n",
    "\n",
    "base_url = \"http://localhost:8000\"\n",
    "client = AsyncAurelioClient(api_key=os.environ[\"AURELIO_API_KEY\"], base_url=base_url, debug=True)"
   ]
  },
  {
   "cell_type": "markdown",
   "metadata": {},
   "source": [
    "# Extract text from PDFs and video MP4 files and urls\n"
   ]
  },
  {
   "cell_type": "markdown",
   "metadata": {},
   "source": [
    "### From file\n"
   ]
  },
  {
   "cell_type": "code",
   "execution_count": null,
   "metadata": {},
   "outputs": [],
   "source": [
    "# PDF\n",
    "\n",
    "from aurelio_sdk import ExtractResponse\n",
    "\n",
    "file_path = \"data/pdf/adaptive_semantic_search.pdf\"\n",
    "\n",
    "# NOTE: wait=-1 means wait till completion, polling_interval=15 means polling every 15 seconds for status till completion\n",
    "\n",
    "response_pdf_file: ExtractResponse = await client.extract_file(\n",
    "    file_path=file_path, quality=\"high\", chunk=True, wait=-1, polling_interval=15\n",
    ")\n",
    "\n",
    "response_pdf_file"
   ]
  },
  {
   "cell_type": "code",
   "execution_count": null,
   "metadata": {},
   "outputs": [],
   "source": [
    "# Video\n",
    "from aurelio_sdk import ExtractResponse\n",
    "\n",
    "# From a local file\n",
    "file_path = \"data/video/how_to_overcome_our_mistakes.mp4\"\n",
    "\n",
    "response_video_file: ExtractResponse = await client.extract_file(\n",
    "    file_path=file_path, quality=\"low\", chunk=True, wait=-1\n",
    ")\n",
    "\n",
    "response_video_file\n",
    "\n",
    "print(response_video_file)"
   ]
  },
  {
   "cell_type": "markdown",
   "metadata": {},
   "source": [
    "### From URL\n"
   ]
  },
  {
   "cell_type": "code",
   "execution_count": null,
   "metadata": {},
   "outputs": [],
   "source": [
    "# From URL PDF\n",
    "from aurelio_sdk import ExtractResponse\n",
    "\n",
    "# From URL\n",
    "url = \"https://arxiv.org/pdf/2408.15291\"\n",
    "response_pdf_url: ExtractResponse = await client.extract_url(\n",
    "    url=url, quality=\"low\", chunk=True, wait=-1, polling_interval=5\n",
    ")\n",
    "response_pdf_url"
   ]
  },
  {
   "cell_type": "code",
   "execution_count": null,
   "metadata": {},
   "outputs": [],
   "source": [
    "\n",
    "response_pdf_url.document.chunks[0].num_tokens"
   ]
  },
  {
   "cell_type": "code",
   "execution_count": 3,
   "metadata": {},
   "outputs": [
    {
     "data": {
      "text/plain": [
       "ExtractResponse(status=<TaskStatus.completed: 'completed'>, usage=Usage(tokens=10, pages=None, seconds=15), message=None, processing_options=ExtractProcessingOptions(chunk=True, quality=<ProcessingQuality.low: 'low'>), document=ResponseDocument(id='doc_8ac14a76-b73a-49d0-862f-f16652c9678a', content=\" I'm a monster! I'm a monster!\", source='https://storage.googleapis.com/gtv-videos-bucket/sample/ForBiggerMeltdowns.mp4', source_type=<SourceType.video_mp4: 'video/mp4'>, num_chunks=1, metadata={}, chunks=[ResponseChunk(id='chunk_0b19311a-6d6f-45ca-9592-848fbdb604cf', content=\"I'm a monster! I'm a monster!\", chunk_index=1, num_tokens=10, metadata={'start_time': 0, 'end_time': 7})]))"
      ]
     },
     "execution_count": 3,
     "metadata": {},
     "output_type": "execute_result"
    }
   ],
   "source": [
    "# From URL Video\n",
    "from aurelio_sdk import ExtractResponse\n",
    "\n",
    "# From URL\n",
    "url = \"https://storage.googleapis.com/gtv-videos-bucket/sample/ForBiggerMeltdowns.mp4\"\n",
    "response_video_url: ExtractResponse = await client.extract_url(\n",
    "    url=url, quality=\"low\", chunk=True, wait=-1\n",
    ")\n",
    "\n",
    "response_video_url"
   ]
  },
  {
   "cell_type": "code",
   "execution_count": 5,
   "metadata": {},
   "outputs": [
    {
     "data": {
      "text/plain": [
       "0"
      ]
     },
     "execution_count": 5,
     "metadata": {},
     "output_type": "execute_result"
    }
   ],
   "source": [
    "video_response_dict = response_video_url.model_dump()\n",
    "video_response_dict[\"document\"][\"chunks\"][0][\"metadata\"][\"start_time\"]\n"
   ]
  },
  {
   "cell_type": "markdown",
   "metadata": {},
   "source": [
    "# Get document status and handle timeouts\n"
   ]
  },
  {
   "cell_type": "code",
   "execution_count": null,
   "metadata": {},
   "outputs": [],
   "source": [
    "from aurelio_sdk import ExtractResponse\n",
    "\n",
    "# From a local file\n",
    "file_path = \"data/pdf/adaptive_semantic_search.pdf\"\n",
    "\n",
    "async with aiofiles.open(file_path, \"rb\") as f:\n",
    "    file_content = await f.read()\n",
    "\n",
    "response_pdf_file: ExtractResponse = await client.extract_file(\n",
    "    file=file_content, quality=\"high\", chunk=True, wait=10)\n",
    "\n",
    "# Get document status and document id\n",
    "print(\"Status:\", response_pdf_file.status)\n",
    "print(\"Document ID:\", response_pdf_file.document.id)"
   ]
  },
  {
   "cell_type": "code",
   "execution_count": null,
   "metadata": {},
   "outputs": [],
   "source": [
    "# Get document status and response\n",
    "document_response: ExtractResponse = await client.get_document(\n",
    "    document_id=response_pdf_file.document.id, timeout=1\n",
    ")\n",
    "\n",
    "print(\"Status:\", document_response.status)"
   ]
  },
  {
   "cell_type": "code",
   "execution_count": null,
   "metadata": {},
   "outputs": [],
   "source": [
    "# Use a pre-built function, which helps to avoid long hanging requests (Recommended)\n",
    "document_response = await client.wait_for(\n",
    "    document_id=response_pdf_file.document.id, wait=300\n",
    ")"
   ]
  },
  {
   "cell_type": "code",
   "execution_count": null,
   "metadata": {},
   "outputs": [],
   "source": [
    "document_response"
   ]
  }
 ],
 "metadata": {
  "kernelspec": {
   "display_name": ".venv_312",
   "language": "python",
   "name": "python3"
  },
  "language_info": {
   "codemirror_mode": {
    "name": "ipython",
    "version": 3
   },
   "file_extension": ".py",
   "mimetype": "text/x-python",
   "name": "python",
   "nbconvert_exporter": "python",
   "pygments_lexer": "ipython3",
   "version": "3.12.7"
  }
 },
 "nbformat": 4,
 "nbformat_minor": 2
}
