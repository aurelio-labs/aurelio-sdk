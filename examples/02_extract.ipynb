{
 "cells": [
  {
   "cell_type": "code",
   "execution_count": null,
   "metadata": {},
   "outputs": [],
   "source": [
    "import sys\n",
    "\n",
    "sys.path.append(\"..\")"
   ]
  },
  {
   "cell_type": "code",
   "execution_count": null,
   "metadata": {},
   "outputs": [],
   "source": [
    "from aurelio_sdk import AurelioClient\n",
    "import os\n",
    "\n",
    "client = AurelioClient(api_key=os.environ[\"AURELIO_API_KEY\"])"
   ]
  },
  {
   "cell_type": "markdown",
   "metadata": {},
   "source": [
    "# Extract text from PDFs and video MP4 files and urls"
   ]
  },
  {
   "cell_type": "markdown",
   "metadata": {},
   "source": [
    "### From file"
   ]
  },
  {
   "cell_type": "code",
   "execution_count": null,
   "metadata": {},
   "outputs": [],
   "source": [
    "from aurelio_sdk import ExtractResponse\n",
    "\n",
    "# From a local file\n",
    "file_path = \"data/pdf/adaptive_semantic_search.pdf\"\n",
    "\n",
    "with open(file_path, \"rb\") as file:\n",
    "    # timeout -1 means no timeout\n",
    "    response_pdf_file: ExtractResponse = client.extract_file(\n",
    "        file=file, quality=\"low\", chunk=True, timeout=-1\n",
    "    )\n",
    "\n",
    "response_pdf_file"
   ]
  },
  {
   "cell_type": "code",
   "execution_count": null,
   "metadata": {},
   "outputs": [],
   "source": [
    "from aurelio_sdk import ExtractResponse\n",
    "\n",
    "# From a local file\n",
    "file_path = \"data/video/how_to_overcome_our_mistakes.mp4\"\n",
    "\n",
    "with open(file_path, \"rb\") as file:\n",
    "    # timeout -1 means no timeout\n",
    "    response_video_file: ExtractResponse = client.extract_file(\n",
    "        file=file, quality=\"low\", chunk=True, timeout=-1\n",
    "    )\n",
    "\n",
    "response_video_file"
   ]
  },
  {
   "cell_type": "markdown",
   "metadata": {},
   "source": [
    "### From URL"
   ]
  },
  {
   "cell_type": "code",
   "execution_count": null,
   "metadata": {},
   "outputs": [],
   "source": [
    "from aurelio_sdk import ExtractResponse\n",
    "\n",
    "# From URL\n",
    "url = \"https://arxiv.org/pdf/2408.15291\"\n",
    "response_pdf_url: ExtractResponse = client.extract_url(\n",
    "    url=url, quality=\"low\", chunk=True, timeout=-1\n",
    ")\n",
    "\n",
    "response_pdf_url"
   ]
  },
  {
   "cell_type": "code",
   "execution_count": null,
   "metadata": {},
   "outputs": [],
   "source": [
    "from aurelio_sdk import ExtractResponse\n",
    "\n",
    "# From URL\n",
    "url = \"https://storage.googleapis.com/gtv-videos-bucket/sample/ForBiggerMeltdowns.mp4\"\n",
    "response_video_url: ExtractResponse = client.extract_url(\n",
    "    url=url, quality=\"low\", chunk=True, timeout=-1\n",
    ")\n",
    "\n",
    "response_video_url"
   ]
  },
  {
   "cell_type": "markdown",
   "metadata": {},
   "source": [
    "# Get document status and handle timeouts"
   ]
  },
  {
   "cell_type": "code",
   "execution_count": null,
   "metadata": {},
   "outputs": [],
   "source": [
    "from aurelio_sdk import ExtractResponse\n",
    "\n",
    "# From a local file\n",
    "file_path = \"data/pdf/adaptive_semantic_search.pdf\"\n",
    "\n",
    "with open(file_path, \"rb\") as file:\n",
    "    # Load file high quality and set timeout 10 seconds\n",
    "    response_pdf_file: ExtractResponse = client.extract_file(\n",
    "        file=file, quality=\"high\", chunk=True, timeout=10\n",
    "    )\n",
    "\n",
    "# Get document status, message and document id\n",
    "print(\"Status:\", response_pdf_file.status)\n",
    "print(\"Message:\", response_pdf_file.message)\n",
    "print(\"Document ID:\", response_pdf_file.document.id)"
   ]
  },
  {
   "cell_type": "code",
   "execution_count": null,
   "metadata": {},
   "outputs": [],
   "source": [
    "# Get document status and response\n",
    "document_response: ExtractResponse = client.get_document(\n",
    "    document_id=response_pdf_file.document.id\n",
    ")\n",
    "\n",
    "print(\"Status:\", document_response.status)"
   ]
  },
  {
   "cell_type": "code",
   "execution_count": null,
   "metadata": {},
   "outputs": [],
   "source": [
    "# Loop until the document is completed or timeout is reached\n",
    "import time\n",
    "\n",
    "start_time = time.time()\n",
    "timeout = 300  # 5 minutes\n",
    "\n",
    "while document_response.status != \"completed\" and time.time() - start_time < timeout:\n",
    "    print(f\"Status: {document_response.status}\")\n",
    "    time.sleep(1)\n",
    "    document_response: ExtractResponse = client.get_document(\n",
    "        document_id=response_pdf_file.document.id\n",
    "    )\n",
    "\n",
    "print(\n",
    "    f\"Final status: {'completed' if document_response.status == 'completed' else 'timed out'}\"\n",
    ")\n",
    "\n",
    "document_response"
   ]
  },
  {
   "cell_type": "code",
   "execution_count": null,
   "metadata": {},
   "outputs": [],
   "source": []
  }
 ],
 "metadata": {
  "kernelspec": {
   "display_name": ".venv_312",
   "language": "python",
   "name": "python3"
  },
  "language_info": {
   "codemirror_mode": {
    "name": "ipython",
    "version": 3
   },
   "file_extension": ".py",
   "mimetype": "text/x-python",
   "name": "python",
   "nbconvert_exporter": "python",
   "pygments_lexer": "ipython3",
   "version": "3.12.4"
  }
 },
 "nbformat": 4,
 "nbformat_minor": 2
}
