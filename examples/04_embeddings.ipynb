{
 "cells": [
  {
   "cell_type": "code",
   "execution_count": 1,
   "metadata": {},
   "outputs": [],
   "source": [
    "import sys\n",
    "\n",
    "sys.path.append(\"..\")"
   ]
  },
  {
   "cell_type": "code",
   "execution_count": 2,
   "metadata": {},
   "outputs": [],
   "source": [
    "from aurelio_sdk import AurelioClient\n",
    "import os\n",
    "\n",
    "client = AurelioClient(api_key=os.environ[\"AURELIO_API_KEY\"])"
   ]
  },
  {
   "cell_type": "markdown",
   "metadata": {},
   "source": [
    "# Create embeddings"
   ]
  },
  {
   "cell_type": "code",
   "execution_count": 3,
   "metadata": {},
   "outputs": [
    {
     "name": "stdout",
     "output_type": "stream",
     "text": [
      "{\n",
      "  \"message\": null,\n",
      "  \"model\": \"bm25\",\n",
      "  \"object\": \"list\",\n",
      "  \"usage\": {\n",
      "    \"prompt_tokens\": 2,\n",
      "    \"total_tokens\": 2\n",
      "  },\n",
      "  \"data\": [\n",
      "    {\n",
      "      \"object\": \"embedding\",\n",
      "      \"index\": 0,\n",
      "      \"embedding\": {\n",
      "        \"indices\": [\n",
      "          613153351,\n",
      "          4220927227\n",
      "        ],\n",
      "        \"values\": [\n",
      "          0.7652411540594288,\n",
      "          0.7652411540594288\n",
      "        ]\n",
      "      }\n",
      "    }\n",
      "  ]\n",
      "}\n"
     ]
    }
   ],
   "source": [
    "response = client.embedding(input=\"Hello world\")\n",
    "\n",
    "print(response.model_dump_json(indent=2))"
   ]
  },
  {
   "cell_type": "code",
   "execution_count": 4,
   "metadata": {},
   "outputs": [
    {
     "name": "stdout",
     "output_type": "stream",
     "text": [
      "{\n",
      "  \"message\": null,\n",
      "  \"model\": \"bm25\",\n",
      "  \"object\": \"list\",\n",
      "  \"usage\": {\n",
      "    \"prompt_tokens\": 4,\n",
      "    \"total_tokens\": 4\n",
      "  },\n",
      "  \"data\": [\n",
      "    {\n",
      "      \"object\": \"embedding\",\n",
      "      \"index\": 0,\n",
      "      \"embedding\": {\n",
      "        \"indices\": [\n",
      "          613153351,\n",
      "          4220927227\n",
      "        ],\n",
      "        \"values\": [\n",
      "          0.7652411540594288,\n",
      "          0.7652411540594288\n",
      "        ]\n",
      "      }\n",
      "    },\n",
      "    {\n",
      "      \"object\": \"embedding\",\n",
      "      \"index\": 1,\n",
      "      \"embedding\": {\n",
      "        \"indices\": [\n",
      "          613153351,\n",
      "          4220927227\n",
      "        ],\n",
      "        \"values\": [\n",
      "          0.7652411540594288,\n",
      "          0.7652411540594288\n",
      "        ]\n",
      "      }\n",
      "    }\n",
      "  ]\n",
      "}\n"
     ]
    }
   ],
   "source": [
    "# Multiple inputs\n",
    "response = client.embedding(input=[\"Hello world\", \"Hello world\"])\n",
    "print(response.model_dump_json(indent=2))"
   ]
  },
  {
   "cell_type": "markdown",
   "metadata": {},
   "source": [
    "# Async client"
   ]
  },
  {
   "cell_type": "code",
   "execution_count": 5,
   "metadata": {},
   "outputs": [],
   "source": [
    "from aurelio_sdk import AsyncAurelioClient\n",
    "import os\n",
    "\n",
    "async_client = AsyncAurelioClient(api_key=os.environ[\"AURELIO_API_KEY\"])"
   ]
  },
  {
   "cell_type": "code",
   "execution_count": 6,
   "metadata": {},
   "outputs": [
    {
     "name": "stdout",
     "output_type": "stream",
     "text": [
      "{\n",
      "  \"message\": null,\n",
      "  \"model\": \"bm25\",\n",
      "  \"object\": \"list\",\n",
      "  \"usage\": {\n",
      "    \"prompt_tokens\": 2,\n",
      "    \"total_tokens\": 2\n",
      "  },\n",
      "  \"data\": [\n",
      "    {\n",
      "      \"object\": \"embedding\",\n",
      "      \"index\": 0,\n",
      "      \"embedding\": {\n",
      "        \"indices\": [\n",
      "          613153351,\n",
      "          4220927227\n",
      "        ],\n",
      "        \"values\": [\n",
      "          0.7652411540594288,\n",
      "          0.7652411540594288\n",
      "        ]\n",
      "      }\n",
      "    }\n",
      "  ]\n",
      "}\n"
     ]
    }
   ],
   "source": [
    "response = await async_client.embedding(input=\"Hello world\")\n",
    "print(response.model_dump_json(indent=2))"
   ]
  }
 ],
 "metadata": {
  "kernelspec": {
   "display_name": ".venv_312",
   "language": "python",
   "name": "python3"
  },
  "language_info": {
   "codemirror_mode": {
    "name": "ipython",
    "version": 3
   },
   "file_extension": ".py",
   "mimetype": "text/x-python",
   "name": "python",
   "nbconvert_exporter": "python",
   "pygments_lexer": "ipython3",
   "version": "3.12.4"
  }
 },
 "nbformat": 4,
 "nbformat_minor": 2
}
