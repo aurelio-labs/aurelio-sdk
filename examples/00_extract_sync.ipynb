{
 "cells": [
  {
   "cell_type": "code",
   "execution_count": null,
   "metadata": {},
   "outputs": [],
   "source": [
    "from aurelio_sdk.client import AurelioClient\n",
    "\n",
    "client = AurelioClient()\n",
    "\n",
    "client.extract_file(\n",
    "    file=open(\"examples/test.pdf\", \"rb\"),\n",
    "    quality=\"high\",\n",
    ")\n"
   ]
  }
 ],
 "metadata": {
  "language_info": {
   "name": "python"
  }
 },
 "nbformat": 4,
 "nbformat_minor": 2
}
