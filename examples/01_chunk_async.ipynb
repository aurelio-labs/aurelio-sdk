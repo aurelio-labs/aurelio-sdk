{
 "cells": [
  {
   "cell_type": "code",
   "execution_count": null,
   "metadata": {},
   "outputs": [],
   "source": [
    "import sys\n",
    "\n",
    "sys.path.append(\"..\")"
   ]
  },
  {
   "cell_type": "code",
   "execution_count": null,
   "metadata": {},
   "outputs": [],
   "source": [
    "from aurelio_sdk import AsyncAurelioClient\n",
    "\n",
    "client = AsyncAurelioClient(base_url=\"\")"
   ]
  },
  {
   "cell_type": "markdown",
   "metadata": {},
   "source": [
    "## Chunk documents"
   ]
  },
  {
   "cell_type": "markdown",
   "metadata": {},
   "source": [
    "Load data for chunking"
   ]
  },
  {
   "cell_type": "code",
   "execution_count": null,
   "metadata": {},
   "outputs": [],
   "source": [
    "from datasets import load_dataset\n",
    "\n",
    "data = load_dataset(\"jamescalam/ai-arxiv2\", split=\"train\")\n",
    "data"
   ]
  },
  {
   "cell_type": "code",
   "execution_count": null,
   "metadata": {},
   "outputs": [],
   "source": [
    "content: str = data[3][\"content\"]\n",
    "print(content[:1000])"
   ]
  },
  {
   "cell_type": "markdown",
   "metadata": {},
   "source": [
    "### Regex chunker"
   ]
  },
  {
   "cell_type": "code",
   "execution_count": null,
   "metadata": {},
   "outputs": [],
   "source": [
    "from aurelio_sdk import ChunkingOptions, ChunkResponse\n",
    "\n",
    "# All options are optional\n",
    "chunking_options = ChunkingOptions(\n",
    "    chunker_type=\"regex\", delimiters=[], max_chunk_length=400\n",
    ")\n",
    "\n",
    "response_regex: ChunkResponse = await client.chunk(\n",
    "    content=content, processing_options=chunking_options\n",
    ")"
   ]
  },
  {
   "cell_type": "code",
   "execution_count": null,
   "metadata": {},
   "outputs": [],
   "source": [
    "import json\n",
    "\n",
    "for chunk in response_regex.document.chunks[:3]:\n",
    "    print(json.dumps(chunk.model_dump(), indent=2))\n",
    "    print(\"-\" * 100)"
   ]
  },
  {
   "cell_type": "markdown",
   "metadata": {},
   "source": [
    "### Semantic chunker"
   ]
  },
  {
   "cell_type": "code",
   "execution_count": null,
   "metadata": {},
   "outputs": [],
   "source": [
    "from aurelio_sdk import ChunkingOptions, ChunkResponse\n",
    "\n",
    "# All options are optional\n",
    "chunking_options = ChunkingOptions(\n",
    "    chunker_type=\"semantic\", max_chunk_length=400, window_size=5\n",
    ")\n",
    "\n",
    "response_semantic: ChunkResponse = await client.chunk(\n",
    "    content=content, processing_options=chunking_options\n",
    ")"
   ]
  },
  {
   "cell_type": "code",
   "execution_count": null,
   "metadata": {},
   "outputs": [],
   "source": [
    "import json\n",
    "\n",
    "for chunk in response_semantic.document.chunks[:3]:\n",
    "    print(json.dumps(chunk.model_dump(), indent=2))\n",
    "    print(\"-\" * 100)"
   ]
  },
  {
   "cell_type": "markdown",
   "metadata": {},
   "source": [
    "#### Compare `regex` and `semantic` chunks\n",
    "Helper function to compare chunks"
   ]
  },
  {
   "cell_type": "code",
   "execution_count": null,
   "metadata": {},
   "outputs": [],
   "source": [
    "from IPython.display import HTML\n",
    "\n",
    "\n",
    "def display_chunks_side_by_side(semantic_chunks, regex_chunks):\n",
    "    \"\"\"Display concatenated texts with chunks in different background colors side by side on white background\"\"\"\n",
    "    print(f\"Semantic chunks: {len(semantic_chunks)}\")\n",
    "    print(f\"Regex chunks: {len(regex_chunks)}\")\n",
    "\n",
    "    colors = [\"#FFC0CB\", \"#ADD8E6\", \"#90EE90\", \"#FFFFE0\", \"#D3D3D3\"]\n",
    "\n",
    "    semantic_html = \"\"\n",
    "    for idx, chunk in enumerate(semantic_chunks):\n",
    "        color = colors[idx % len(colors)]\n",
    "        semantic_html += (\n",
    "            f'<span style=\"background-color:{color};\">{chunk.content}</span>'\n",
    "        )\n",
    "\n",
    "    regex_html = \"\"\n",
    "    for idx, chunk in enumerate(regex_chunks):\n",
    "        color = colors[idx % len(colors)]\n",
    "        regex_html += f'<span style=\"background-color:{color};\">{chunk.content}</span>'\n",
    "\n",
    "    html = f\"\"\"\n",
    "    <table style=\"width:100%; table-layout:fixed; background-color:white;\">\n",
    "        <tr>\n",
    "            <th style=\"width:50%; text-align:left;\">Semantic Chunking</th>\n",
    "            <th style=\"width:50%; text-align:left;\">Regex Chunking</th>\n",
    "        </tr>\n",
    "        <tr>\n",
    "            <td style=\"vertical-align: top; text-align:left;\">{semantic_html}</td>\n",
    "            <td style=\"vertical-align: top; text-align:left;\">{regex_html}</td>\n",
    "        </tr>\n",
    "    </table>\n",
    "    \"\"\"\n",
    "\n",
    "    display(HTML(html))"
   ]
  },
  {
   "cell_type": "code",
   "execution_count": null,
   "metadata": {},
   "outputs": [],
   "source": [
    "display_chunks_side_by_side(\n",
    "    response_semantic.document.chunks, response_regex.document.chunks\n",
    ")"
   ]
  },
  {
   "cell_type": "code",
   "execution_count": null,
   "metadata": {},
   "outputs": [],
   "source": []
  },
  {
   "cell_type": "code",
   "execution_count": null,
   "metadata": {},
   "outputs": [],
   "source": [
    "display_chunks_side_by_side(\n",
    "    response_semantic.document.chunks, response_regex.document.chunks\n",
    ")"
   ]
  },
  {
   "cell_type": "code",
   "execution_count": null,
   "metadata": {},
   "outputs": [],
   "source": []
  }
 ],
 "metadata": {
  "kernelspec": {
   "display_name": ".venv_312",
   "language": "python",
   "name": "python3"
  },
  "language_info": {
   "codemirror_mode": {
    "name": "ipython",
    "version": 3
   },
   "file_extension": ".py",
   "mimetype": "text/x-python",
   "name": "python",
   "nbconvert_exporter": "python",
   "pygments_lexer": "ipython3",
   "version": "3.12.4"
  }
 },
 "nbformat": 4,
 "nbformat_minor": 2
}
